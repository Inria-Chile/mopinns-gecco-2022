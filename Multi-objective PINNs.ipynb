{
 "cells": [
  {
   "cell_type": "markdown",
   "id": "ordered-swift",
   "metadata": {},
   "source": [
    "# MOPINNs"
   ]
  },
  {
   "cell_type": "code",
   "execution_count": null,
   "id": "bb55c7d1",
   "metadata": {
    "ExecuteTime": {
     "end_time": "2022-02-03T20:41:39.495851Z",
     "start_time": "2022-02-03T20:41:39.484531Z"
    }
   },
   "outputs": [],
   "source": [
    "import os\n",
    "\n",
    "os.environ['WANDB_ENTITY'] = 'ENTITY'\n",
    "os.environ['WANDB_PROJECT'] = 'PROJECT'\n",
    "os.environ['WANDB_API_KEY'] = 'API_KEY'\n",
    "os.environ['WANDB_SILENT'] = 'true'"
   ]
  },
  {
   "cell_type": "code",
   "execution_count": null,
   "id": "civic-paraguay",
   "metadata": {
    "ExecuteTime": {
     "end_time": "2022-02-03T20:41:41.128571Z",
     "start_time": "2022-02-03T20:41:41.093830Z"
    }
   },
   "outputs": [],
   "source": [
    "import mopinn\n",
    "\n",
    "# Burgers equations\n",
    "pde = mopinn.BurgersPDE()\n",
    "dataset = mopinn.BurgersDataset(path=base_path+'data/Burgers/', normalize=True)\n",
    "\n",
    "# Wave equations\n",
    "#pde = mopinn.WavesPDE()\n",
    "#dataset = mopinn.WavesDataset(path=base_path+'data/Waves_Square/', normalize=True)\n",
    "\n",
    "# Advection-Diffusion equations\n",
    "#pde = mopinn.AdvDifPDE()\n",
    "#dataset = mopinn.AdvDifDataset(path=base_path+'data/AdvDif/', normalize=True)\n",
    "\n",
    "# Create MOPINN problem and set hyper parameters\n",
    "mopinn = mopinn.MOPINN(pde, dataset,\n",
    "                       layer_widths=[100, 100],\n",
    "                       activation_function='tanh',\n",
    "                       weight_initializer='none',  # Weight initialization, can be none or xavier\n",
    "                       learning_rate=0.00075,  # Adam learning rate, found using auto_lr_find\n",
    "                       val_split=0.1, test_split=0.0,  # Validation and test fractions, sum must be less than 1\n",
    "                       batch_size=2560,  # Use batch_size equal to all data\n",
    ")"
   ]
  },
  {
   "cell_type": "code",
   "execution_count": null,
   "id": "instant-sunday",
   "metadata": {
    "ExecuteTime": {
     "end_time": "2022-02-03T15:34:45.674647Z",
     "start_time": "2022-02-03T15:31:30.622647Z"
    },
    "scrolled": false
   },
   "outputs": [],
   "source": [
    "# Train MOPINN model\n",
    "mopinn.train(load_checkpoint=False,  # continue from previous run\n",
    "             problem='activation_function',  # alpha, layer_widths, activation_function, architecture\n",
    "             method='MOEAD',  # MOEAD, NSGA2, NSGA3\n",
    "             generations=1,  # Number of multi-objective generations\n",
    "             population=25,  # Number of individuals per generation\n",
    "             unique_name='default',  # Unique name that appears in WandB\n",
    "             \n",
    "             # Arguments for pytorch_lightning.Trainer\n",
    "             #min_delta=1e-5,  # Minimum change needed for EarlyStopper\n",
    "             min_epochs=1_000,\n",
    "             max_epochs=1_000,\n",
    "             gpus=1, auto_select_gpus=True,  # Use all GPUs\n",
    "             #auto_lr_find=True,  # Find optimal learning_rate\n",
    "             #auto_scale_batch_size=\"binsearch\",  # Find optimal batch_size\n",
    ")"
   ]
  }
 ],
 "metadata": {
  "interpreter": {
   "hash": "23713b462908eee59ee2d7811712a1d986a370bc49a88d693f068f507b130530"
  },
  "kernelspec": {
   "display_name": "Python 3 (ipykernel)",
   "language": "python",
   "name": "python3"
  },
  "language_info": {
   "codemirror_mode": {
    "name": "ipython",
    "version": 3
   },
   "file_extension": ".py",
   "mimetype": "text/x-python",
   "name": "python",
   "nbconvert_exporter": "python",
   "pygments_lexer": "ipython3",
   "version": "3.9.12"
  }
 },
 "nbformat": 4,
 "nbformat_minor": 5
}
